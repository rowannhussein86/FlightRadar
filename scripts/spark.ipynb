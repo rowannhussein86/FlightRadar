{
 "cells": [
  {
   "cell_type": "code",
   "execution_count": null,
   "id": "88cbac4b",
   "metadata": {},
   "outputs": [],
   "source": [
    "pip install psycopg2-binary"
   ]
  },
  {
   "cell_type": "code",
   "execution_count": null,
   "id": "1c3f665b",
   "metadata": {},
   "outputs": [],
   "source": [
    "from pyspark.sql import SparkSession\n",
    "from pyspark.sql.functions import from_json, col\n",
    "from pyspark.sql.types import StructType, StringType, LongType\n",
    "import psycopg2\n",
    "\n",
    "spark = SparkSession.builder.appName(\"FlightStream\").getOrCreate()\n",
    "\n",
    "schema = StructType() \\\n",
    "    .add(\"flight_id\", StringType()) \\\n",
    "    .add(\"origin\", StringType()) \\\n",
    "    .add(\"destination\", StringType()) \\\n",
    "    .add(\"status\", StringType()) \\\n",
    "    .add(\"departure_time\", LongType()) \\\n",
    "    .add(\"arrival_time\", LongType())\n",
    "\n",
    "df = spark.readStream \\\n",
    "    .format(\"kafka\") \\\n",
    "    .option(\"kafka.bootstrap.servers\", \"broker:29092\") \\\n",
    "    .option(\"subscribe\", \"flights\") \\\n",
    "    .option(\"startingOffsets\", \"latest\") \\\n",
    "    .load()\n",
    "\n",
    "flights = df.select(from_json(col(\"value\").cast(\"string\"), schema).alias(\"data\")).select(\"data.*\")\n",
    "\n",
    "def foreach_batch(df, epoch_id):\n",
    "    conn = psycopg2.connect(\n",
    "        dbname=\"flights_project\", user=\"admin\", password=\"admin\", host=\"postgres_general\"\n",
    "    )\n",
    "    cur = conn.cursor()\n",
    "    for row in df.collect():\n",
    "        cur.execute(\"\"\"\n",
    "            INSERT INTO flights (flight_id, origin, destination, status, departure_time, arrival_time)\n",
    "            VALUES (%s,%s,%s,%s,%s,%s)\n",
    "            ON CONFLICT (flight_id) DO UPDATE\n",
    "            SET status = EXCLUDED.status, arrival_time = EXCLUDED.arrival_time;\n",
    "        \"\"\", (row.flight_id, str(row.origin), str(row.destination), row.status, row.departure_time, row.arrival_time))\n",
    "    conn.commit()\n",
    "    cur.close()\n",
    "    conn.close()\n",
    "\n",
    "query = flights.writeStream.foreachBatch(foreach_batch).start()\n",
    "query.awaitTermination()\n"
   ]
  }
 ],
 "metadata": {
  "language_info": {
   "name": "python"
  }
 },
 "nbformat": 4,
 "nbformat_minor": 5
}
